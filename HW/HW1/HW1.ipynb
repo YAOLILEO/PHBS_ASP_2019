{
 "cells": [
  {
   "cell_type": "markdown",
   "metadata": {},
   "source": [
    "# HW 1: Corporate Bond Pricing (due by 9.20 Fri)"
   ]
  },
  {
   "cell_type": "markdown",
   "metadata": {},
   "source": [
    "We are going to compute the price of a corporate bond (subject to default) with Monte-Carlo simulation. Assume that \n",
    "* the default time of a company follows the exponential distribution with intensity $\\lambda=$__`def_rate`__. \n",
    "* the riskfree interest rate is $r_f=$__`rf_rate`__ and the maturity of the bond is $T=$__`mat`__. \n",
    "* in the case of default, you can recover some portion ($R=$__`recovery_rate`__) of the face value.\n",
    "* the coupon is 0%, i.e., it is a zero-coupon bond.\n",
    "* the face value of the bond is 1.0\n",
    "* use compound rate for discounting; the price of the default-free bond is $e^{-r_f T}$\n",
    "\n",
    "The Problem 1 of the [2017 ASP Midterm Exam](../files/ASP2017_Midterm.pdf) will be helpful.\n",
    "\n",
    "### Instruction to upload your HW\n",
    "* Create a repository named __`PHBS_ASP_2018`__ (and clone it to your PC)\n",
    "* Copy this file to __`PHBS_ASP_2018/HW2/HW2.ipynb`__  (Please use the same name for repository and ipynb file)\n",
    "* Adding more code.\n",
    "* Run your your code to make sure that there's no error.\n",
    "* Upload (commit and sync) your file."
   ]
  },
  {
   "cell_type": "markdown",
   "metadata": {},
   "source": [
    "### 1. First, let's create a pricing function and check the std "
   ]
  },
  {
   "cell_type": "code",
   "execution_count": 2,
   "metadata": {},
   "outputs": [],
   "source": [
    "import numpy as np"
   ]
  },
  {
   "cell_type": "code",
   "execution_count": 3,
   "metadata": {},
   "outputs": [],
   "source": [
    "def_rate = 0.1\n",
    "rf_rate = 0.03\n",
    "recovery = 0.3\n",
    "mat = 10\n",
    "F = 1 \n",
    "c = 0"
   ]
  },
  {
   "cell_type": "markdown",
   "metadata": {},
   "source": []
  },
  {
   "cell_type": "code",
   "execution_count": 119,
   "metadata": {},
   "outputs": [
    {
     "data": {
      "text/plain": [
       "array([11.78379005, 21.38635827,  0.56136058, ...,  4.80147652,\n",
       "       22.56794342,  3.76740517])"
      ]
     },
     "execution_count": 119,
     "metadata": {},
     "output_type": "execute_result"
    }
   ],
   "source": [
    "# First generate exponential random numbers\n",
    "# Although you can generate directly using fault_time = np.random.exponential(scale=), let's use uniform random numbers.\n",
    "n_sample = 10000\n",
    "U = np.random.uniform(size=n_sample)\n",
    "default_time = -(1/def_rate)*np.log(U)\n",
    "\n",
    "# You can check if the RNs are correct by comparing the means\n",
    "(default_time.mean(), 1/def_rate)\n",
    "default_time"
   ]
  },
  {
   "cell_type": "markdown",
   "metadata": {},
   "source": [
    "Solution:"
   ]
  },
  {
   "cell_type": "code",
   "execution_count": 9,
   "metadata": {
    "scrolled": true
   },
   "outputs": [
    {
     "name": "stdout",
     "output_type": "stream",
     "text": [
      "mean 0.44047188477136023\n",
      "std_Dev 0.002078034974592645\n"
     ]
    }
   ],
   "source": [
    "# Put your code here to price the corporate bond\n",
    "\n",
    "def corp_bond(F=1, c=0, def_rate=0.1, rf_rate=0.03, recovery=0.3, mat=10, n_sample=10000):\n",
    "    U = np.random.uniform(size=n_sample)\n",
    "    default_time = -(1/def_rate)*np.log(U)\n",
    "    disc_rate_in = np.exp(-rf_rate*mat)\n",
    "    disc_rate_out = np.exp(-rf_rate*default_time)\n",
    "    price = np.where(default_time>mat, \n",
    "                    F*disc_rate_in+F*c*disc_rate_in, F*disc_rate_out*recovery)\n",
    "    return np.mean(price)\n",
    "# Call your function\n",
    "corp_bond(F, c, def_rate, rf_rate, recovery, mat)\n",
    "\n",
    "# Find the mean and std by calling the function 100 times.\n",
    "n =100\n",
    "a = [0]*100  \n",
    "#  if I want to use:\n",
    "# for i in range(0,100): \n",
    "#     corp_bond()\n",
    "# this will do function 100 times but how to store the results?\n",
    "while n>=0:\n",
    "    for i in range(0,100):\n",
    "        a[i] =corp_bond()\n",
    "        n = n-1\n",
    "print('mean',np.mean(a))  # why print('mean',np.mean(a), /n  'std_Dev', np.std(a)) doesn't work?\n",
    "print( 'std_Dev', np.std(a))"
   ]
  },
  {
   "cell_type": "code",
   "execution_count": 256,
   "metadata": {},
   "outputs": [
    {
     "name": "stdout",
     "output_type": "stream",
     "text": [
      "mean 0.4144670640003538\n",
      "std_Dev 0.04171940191641513\n"
     ]
    }
   ],
   "source": [
    "# Put your code here to price the corporate bond\n",
    "\n",
    "def corp_bond(F=1, c=0, def_rate=0.1, rf_rate=0.03, recovery=0.3, mat=10, n_sample=10000):\n",
    "    U = np.random.uniform(size = n_sample)\n",
    "    default_time = -(1/def_rate)*np.log(U)\n",
    "    disc_rate_in = np.exp(-rf_rate*mat)\n",
    "    disc_rate_out = np.exp(-rf_rate*default_time)\n",
    "    price = [0]*10000\n",
    "    for i in range(0, len(default_time)):\n",
    "        if default_time[i] > mat:\n",
    "            price[i] = F*disc_rate_in+F*c*disc_rate_in\n",
    "        else:\n",
    "            price[i] = F*disc_rate_out*recovery\n",
    "    return  np.mean(np.mean(price))\n",
    "   \n",
    "# Call your function\n",
    "corp_bond(F, c, def_rate, rf_rate, recovery, mat)\n",
    "\n",
    "# Find the mean and std by calling the function 100 times. \n",
    "# this method will take much more time.\n",
    "n =100\n",
    "a = [0]*100\n",
    "while n>=0:\n",
    "    for i in range(1,100):\n",
    "        a[i] =corp_bond()\n",
    "        n = n-1\n",
    "print('mean', np.mean(a))\n",
    "print('std_Dev', np.std(a))"
   ]
  },
  {
   "cell_type": "markdown",
   "metadata": {},
   "source": [
    "### 2. Now, let's improve the function by reducing the MC variations.\n",
    "1. Use antithetic method: If `U` is uniform random variable, so is `1-U`\n",
    "2. Also shift the RNs to match the mean, `1/def_rate`"
   ]
  },
  {
   "cell_type": "code",
   "execution_count": 5,
   "metadata": {},
   "outputs": [
    {
     "data": {
      "text/plain": [
       "(9.999999999999998, 10.0)"
      ]
     },
     "execution_count": 5,
     "metadata": {},
     "output_type": "execute_result"
    }
   ],
   "source": [
    "# For example, antithetic method mean\n",
    "n_sample = 10000\n",
    "U = np.random.uniform(size=n_sample)\n",
    "default_time = -(1/def_rate)*np.log(np.concatenate((U,1-U),axis=0))\n",
    "\n",
    "# Mean-matching means\n",
    "default_time += 1/def_rate-default_time.mean()\n",
    "(default_time.mean(), 1/def_rate)"
   ]
  },
  {
   "cell_type": "code",
   "execution_count": 221,
   "metadata": {},
   "outputs": [],
   "source": [
    "np.concatenate?"
   ]
  },
  {
   "cell_type": "code",
   "execution_count": 258,
   "metadata": {
    "scrolled": true
   },
   "outputs": [
    {
     "name": "stdout",
     "output_type": "stream",
     "text": [
      "mean [0.44021897 0.44028645 0.44039224]\n",
      "std_Dev [0.00109966 0.00171552 0.00103929]\n"
     ]
    }
   ],
   "source": [
    "# Now include the two new features: `antithetic` and `mean_match`\n",
    "\n",
    "def corp_bond_cv(F=1, c= 0, mat=10, def_rate=0.1, rf_rate=0.03, recovery=0.3, n_sample=10000, antithetic=True, mean_match=True):\n",
    "    U = np.random.uniform(size=n_sample)\n",
    "    if(antithetic):\n",
    "        default_time = -(1/def_rate)*np.log(np.concatenate((U,1-U),axis=0))\n",
    "    else:\n",
    "        default_time = -(1/def_rate)*np.log(U)\n",
    "    if(mean_match):\n",
    "        default_time += 1/def_rate-default_time.mean()\n",
    "    disc_rate_in = np.exp(-rf_rate*mat)\n",
    "    disc_rate_out = np.exp(-rf_rate*default_time)\n",
    "    price = np.where(default_time>mat, \n",
    "                     F*disc_rate_in+F*c*disc_rate_in, F*disc_rate_out*recovery)\n",
    "    return np.mean(price)\n",
    "\n",
    "\n",
    "# Find the mean and std by calling the function 100 times for (i) antithetic (ii) mean_match and (iii) both\n",
    "n =100\n",
    "a = [[0]*100 ,[0]*100 ,[0]*100]\n",
    "while n>=0:\n",
    "    for i in range(0,100):\n",
    "        a[0][i] =corp_bond_cv(antithetic = True, mean_match = False)\n",
    "        a[1][i] = corp_bond_cv(antithetic = False, mean_match = True)\n",
    "        a[2][i] = corp_bond_cv(antithetic = True, mean_match = True)\n",
    "        n = n-1\n",
    "print('mean', np.mean(a, axis = 1))\n",
    "print('std_Dev', np.std(a, axis = 1))"
   ]
  },
  {
   "cell_type": "markdown",
   "metadata": {},
   "source": [
    "From the results above we can see that with antithetic random numbers and control variance method, the std_deviation is less then without."
   ]
  },
  {
   "cell_type": "markdown",
   "metadata": {
    "collapsed": true
   },
   "source": [
    "### 3. Finally, what is the analytic value of the corporate bond? How does it compare to your MC result above?"
   ]
  },
  {
   "cell_type": "code",
   "execution_count": 7,
   "metadata": {},
   "outputs": [],
   "source": [
    "### Put the analytic expression for the corporate bond price"
   ]
  },
  {
   "cell_type": "code",
   "execution_count": 26,
   "metadata": {},
   "outputs": [],
   "source": [
    "def corp_bond(F=1, c=0, def_rate=0.1, rf_rate=0.03, recovery=0.3, mat=10):\n",
    "    prob = 1 - np.exp((-rf_rate-def_rate)*mat)\n",
    "    price = (F*recovery*def_rate*prob/(rf_rate+def_rate)+(1-prob)*(F+c*F))\n",
    "    return np.mean(price)\n",
    "             "
   ]
  },
  {
   "cell_type": "code",
   "execution_count": 27,
   "metadata": {
    "scrolled": true
   },
   "outputs": [
    {
     "data": {
      "text/plain": [
       "0.440409071564625"
      ]
     },
     "execution_count": 27,
     "metadata": {},
     "output_type": "execute_result"
    }
   ],
   "source": [
    "corp_bond()"
   ]
  },
  {
   "cell_type": "code",
   "execution_count": null,
   "metadata": {},
   "outputs": [],
   "source": []
  }
 ],
 "metadata": {
  "anaconda-cloud": {},
  "kernelspec": {
   "display_name": "Python 3",
   "language": "python",
   "name": "python3"
  },
  "language_info": {
   "codemirror_mode": {
    "name": "ipython",
    "version": 3
   },
   "file_extension": ".py",
   "mimetype": "text/x-python",
   "name": "python",
   "nbconvert_exporter": "python",
   "pygments_lexer": "ipython3",
   "version": "3.7.3"
  }
 },
 "nbformat": 4,
 "nbformat_minor": 1
}
